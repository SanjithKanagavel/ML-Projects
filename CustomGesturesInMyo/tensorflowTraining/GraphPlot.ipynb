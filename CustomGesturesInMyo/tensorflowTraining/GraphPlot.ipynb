{
 "cells": [
  {
   "cell_type": "code",
   "execution_count": 2,
   "metadata": {
    "collapsed": false
   },
   "outputs": [
    {
     "data": {
      "text/html": [
       "<iframe id=\"igraph\" scrolling=\"no\" style=\"border:none;\" seamless=\"seamless\" src=\"https://plot.ly/~SanjithKanagavel/7.embed\" height=\"525px\" width=\"100%\"></iframe>"
      ],
      "text/plain": [
       "<plotly.tools.PlotlyDisplay object>"
      ]
     },
     "execution_count": 2,
     "metadata": {},
     "output_type": "execute_result"
    }
   ],
   "source": [
    "import plotly.plotly as py\n",
    "import numpy as np\n",
    "import plotly.graph_objs as go\n",
    "import pickle\n",
    "sampleName = \"test\"\n",
    "sampleIteration = \"0\"\n",
    "data = pickle.load( open( \"recordedData/\"+sampleName+\"/\"+sampleName+sampleIteration+\".p\", \"rb\" ) )\n",
    "\n",
    "x1 = data[:,0]\n",
    "x2 = data[:,1]  \n",
    "x3 = data[:,2]  \n",
    "x4 = data[:,3]  \n",
    "x5 = data[:,4]  \n",
    "x6 = data[:,5]  \n",
    "x7 = data[:,6]  \n",
    "x8 = data[:,7]  \n",
    "\n",
    "N = 200 #Slice Number\n",
    "x = np.linspace(0, 1, N)\n",
    "trace1 = go.Scatter(\n",
    "    x = x,\n",
    "    y = x1[:N],\n",
    "    mode = 'lines+markers',\n",
    "    name = 'sensor 1'\n",
    ")\n",
    "trace2 = go.Scatter(\n",
    "    x = x,\n",
    "    y = x2[:N],\n",
    "    mode = 'lines+markers',\n",
    "    name = 'sensor 2'\n",
    ")\n",
    "trace3 = go.Scatter(\n",
    "    x = x,\n",
    "    y = x3[:N],\n",
    "    mode = 'lines+markers',\n",
    "    name = 'sensor 3'\n",
    ")\n",
    "trace4 = go.Scatter(\n",
    "    x = x,\n",
    "    y = x4[:N],\n",
    "    mode = 'lines+markers',\n",
    "    name = 'sensor 4'\n",
    ")\n",
    "trace5 = go.Scatter(\n",
    "    x = x,\n",
    "    y = x5[:N],\n",
    "    mode = 'lines+markers',\n",
    "    name = 'sensor 5'\n",
    ")\n",
    "trace6 = go.Scatter(\n",
    "    x = x,\n",
    "    y = x6[:N],\n",
    "    mode = 'lines+markers',\n",
    "    name = 'sensor 6'\n",
    ")\n",
    "trace7 = go.Scatter(\n",
    "    x = x,\n",
    "    y = x7[:N],\n",
    "    mode = 'lines+markers',\n",
    "    name = 'sensor 7'\n",
    ")\n",
    "\n",
    "trace8 = go.Scatter(\n",
    "    x = x,\n",
    "    y = x8,\n",
    "    mode = 'lines+markers',\n",
    "    name = 'sensor 8'\n",
    ")\n",
    "\n",
    "py.iplot([trace1,trace2,trace3,trace4,trace5,trace7,trace8], filename='OpenClose')\n"
   ]
  },
  {
   "cell_type": "code",
   "execution_count": null,
   "metadata": {
    "collapsed": true
   },
   "outputs": [],
   "source": []
  }
 ],
 "metadata": {
  "kernelspec": {
   "display_name": "Python 3",
   "language": "python",
   "name": "python3"
  },
  "language_info": {
   "codemirror_mode": {
    "name": "ipython",
    "version": 3
   },
   "file_extension": ".py",
   "mimetype": "text/x-python",
   "name": "python",
   "nbconvert_exporter": "python",
   "pygments_lexer": "ipython3",
   "version": "3.6.0"
  }
 },
 "nbformat": 4,
 "nbformat_minor": 2
}
