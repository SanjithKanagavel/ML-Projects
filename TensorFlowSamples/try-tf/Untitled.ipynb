{
 "cells": [
  {
   "cell_type": "code",
   "execution_count": 9,
   "metadata": {
    "collapsed": false
   },
   "outputs": [],
   "source": [
    "import numpy as np \n",
    "from cdtw import pydtw"
   ]
  },
  {
   "cell_type": "code",
   "execution_count": 6,
   "metadata": {
    "collapsed": true
   },
   "outputs": [],
   "source": [
    "a = np.array([[2, 3, 2, -4, -3, -4, 26, 5], \n",
    "              [-7, -4, -3, -2, -3, -11, -79, -26],\n",
    "              [0, -4, -2, 2, 1, -1, -5, -12],\n",
    "              [-1, -5, -2, 0, -1, 3, 11, -1],\n",
    "              [4, 5, 4, 7, 4, 8, 4, 2], \n",
    "              [0, 4, 0, -3, -1, -10, 12, 10],\n",
    "              [-9, -8, -4, -5, -7, -5, -56, -29],\n",
    "              [-2, -1, -1, -4, -5, 3, 22, -2]])\n"
   ]
  },
  {
   "cell_type": "code",
   "execution_count": 7,
   "metadata": {
    "collapsed": false
   },
   "outputs": [],
   "source": [
    "b = np.array([[-1, -1, -4, -5, 0, -1, 15, -3],\n",
    "             [6, 1, 5, 4, 11, 19, 21, 0],\n",
    "             [-3, -2, -9, 0, -1, -2, -3, 7],\n",
    "             [-7, -2, -5, -3, -5, -8, -11, -22],\n",
    "             [0, -2, -2, -1, -3, -8, -10, -5],\n",
    "             [-3, -7, -4, -4, -3, 6, -4, 8],\n",
    "             [6, 14, 7, 3, 3, 5, 21, -2],\n",
    "             [-2, -1, -3, -5, -4, -5, -11, 7]])"
   ]
  },
  {
   "cell_type": "code",
   "execution_count": 8,
   "metadata": {
    "collapsed": true
   },
   "outputs": [],
   "source": [
    "c = np.array([[3, 2, 0, 1, 2, 3, 6, -9],\n",
    "             [-6, -5, -2, 0, -2, -3, 12, 12],\n",
    "             [-2, -2, -3, 1, 1, 1, 8, 4],\n",
    "             [1, -2, 2, 0, 1, -1, 1, 1],\n",
    "             [1, -4, 0, -2, -2, -4, 10, 5],\n",
    "             [-2, 2, -4, -1, 0, -7, -32, -18],\n",
    "             [0, -3, -1, -2, 0, 2, 3, 7],\n",
    "             [-1, -3, -2, 0, -1, 2, -3, -11]])"
   ]
  },
  {
   "cell_type": "code",
   "execution_count": 16,
   "metadata": {
    "collapsed": true
   },
   "outputs": [],
   "source": [
    "r = np.array([1.1,2.2,3.3,4.4])\n",
    "q = np.array([2.1,3.1,4.1,5.1])"
   ]
  },
  {
   "cell_type": "code",
   "execution_count": 25,
   "metadata": {
    "collapsed": true
   },
   "outputs": [],
   "source": [
    "d = pydtw.dtw(r,q,pydtw.Settings(step = 'p0sym',     #Sakoe-Chiba symmetric step with slope constraint p = 0\n",
    "                                window = 'palival', #type of the window\n",
    "                                param = 2.0,        #window parameter\n",
    "                                norm = False,       #normalization\n",
    "                                compute_path = True))\n"
   ]
  },
  {
   "cell_type": "code",
   "execution_count": 26,
   "metadata": {
    "collapsed": false
   },
   "outputs": [
    {
     "data": {
      "text/plain": [
       "2.8000000000000003"
      ]
     },
     "execution_count": 26,
     "metadata": {},
     "output_type": "execute_result"
    }
   ],
   "source": [
    "d.get_dist()"
   ]
  },
  {
   "cell_type": "code",
   "execution_count": 27,
   "metadata": {
    "collapsed": false
   },
   "outputs": [
    {
     "data": {
      "text/plain": [
       "array([[ 1. ,  3. ,  6. ,  inf],\n",
       "       [ 1.1,  2. ,  3.9,  6.8],\n",
       "       [ 2.3,  1.5,  2.3,  4.1],\n",
       "       [ inf,  2.8,  2.1,  2.8]])"
      ]
     },
     "execution_count": 27,
     "metadata": {},
     "output_type": "execute_result"
    }
   ],
   "source": [
    "d.get_cost()"
   ]
  },
  {
   "cell_type": "code",
   "execution_count": 28,
   "metadata": {
    "collapsed": false
   },
   "outputs": [
    {
     "data": {
      "text/plain": [
       "[(0, 0), (1, 0), (2, 1), (3, 2), (3, 3)]"
      ]
     },
     "execution_count": 28,
     "metadata": {},
     "output_type": "execute_result"
    }
   ],
   "source": [
    "d.get_path()"
   ]
  },
  {
   "cell_type": "code",
   "execution_count": 15,
   "metadata": {
    "collapsed": false
   },
   "outputs": [
    {
     "ename": "ValueError",
     "evalue": "all the input arrays must have same number of dimensions",
     "output_type": "error",
     "traceback": [
      "\u001b[0;31m---------------------------------------------------------------------------\u001b[0m",
      "\u001b[0;31mValueError\u001b[0m                                Traceback (most recent call last)",
      "\u001b[0;32m<ipython-input-15-d47cad11decd>\u001b[0m in \u001b[0;36m<module>\u001b[0;34m()\u001b[0m\n\u001b[1;32m      3\u001b[0m                                 \u001b[0mparam\u001b[0m \u001b[0;34m=\u001b[0m \u001b[0;36m2.0\u001b[0m\u001b[0;34m,\u001b[0m        \u001b[0;31m#window parameter\u001b[0m\u001b[0;34m\u001b[0m\u001b[0m\n\u001b[1;32m      4\u001b[0m                                 \u001b[0mnorm\u001b[0m \u001b[0;34m=\u001b[0m \u001b[0;32mFalse\u001b[0m\u001b[0;34m,\u001b[0m       \u001b[0;31m#normalization\u001b[0m\u001b[0;34m\u001b[0m\u001b[0m\n\u001b[0;32m----> 5\u001b[0;31m                                 compute_path = True))\n\u001b[0m",
      "\u001b[0;32m/Users/phil/anaconda/lib/python3.6/site-packages/cdtw/pydtw.py\u001b[0m in \u001b[0;36m__init__\u001b[0;34m(self, ref, query, settings)\u001b[0m\n\u001b[1;32m     10\u001b[0m \u001b[0;34m\u001b[0m\u001b[0m\n\u001b[1;32m     11\u001b[0m     \u001b[0;32mdef\u001b[0m \u001b[0m__init__\u001b[0m\u001b[0;34m(\u001b[0m\u001b[0mself\u001b[0m\u001b[0;34m,\u001b[0m \u001b[0mref\u001b[0m\u001b[0;34m,\u001b[0m \u001b[0mquery\u001b[0m\u001b[0;34m,\u001b[0m \u001b[0msettings\u001b[0m\u001b[0;34m=\u001b[0m\u001b[0mSettings\u001b[0m\u001b[0;34m(\u001b[0m\u001b[0;34m)\u001b[0m\u001b[0;34m)\u001b[0m\u001b[0;34m:\u001b[0m\u001b[0;34m\u001b[0m\u001b[0m\n\u001b[0;32m---> 12\u001b[0;31m         \u001b[0mcydtw\u001b[0m\u001b[0;34m.\u001b[0m\u001b[0m__init__\u001b[0m\u001b[0;34m(\u001b[0m\u001b[0mself\u001b[0m\u001b[0;34m,\u001b[0m \u001b[0mref\u001b[0m\u001b[0;34m,\u001b[0m \u001b[0mquery\u001b[0m\u001b[0;34m,\u001b[0m \u001b[0msettings\u001b[0m\u001b[0;34m)\u001b[0m\u001b[0;34m\u001b[0m\u001b[0m\n\u001b[0m\u001b[1;32m     13\u001b[0m         \u001b[0mself\u001b[0m\u001b[0;34m.\u001b[0m\u001b[0m_ref\u001b[0m \u001b[0;34m=\u001b[0m \u001b[0mref\u001b[0m\u001b[0;34m\u001b[0m\u001b[0m\n\u001b[1;32m     14\u001b[0m         \u001b[0mself\u001b[0m\u001b[0;34m.\u001b[0m\u001b[0m_query\u001b[0m \u001b[0;34m=\u001b[0m \u001b[0mquery\u001b[0m\u001b[0;34m\u001b[0m\u001b[0m\n",
      "\u001b[0;32mcdtw/cydtw.pyx\u001b[0m in \u001b[0;36mcdtw.cydtw.cydtw.__init__ (cdtw/cydtw.c:4379)\u001b[0;34m()\u001b[0m\n",
      "\u001b[0;32mcdtw/cydtw.pyx\u001b[0m in \u001b[0;36mcdtw.cydtw.cydtw._dtw (cdtw/cydtw.c:4989)\u001b[0;34m()\u001b[0m\n",
      "\u001b[0;32m/Users/phil/anaconda/lib/python3.6/site-packages/numpy/core/shape_base.py\u001b[0m in \u001b[0;36mhstack\u001b[0;34m(tup)\u001b[0m\n\u001b[1;32m    284\u001b[0m     \u001b[0;31m# As a special case, dimension 0 of 1-dimensional arrays is \"horizontal\"\u001b[0m\u001b[0;34m\u001b[0m\u001b[0;34m\u001b[0m\u001b[0m\n\u001b[1;32m    285\u001b[0m     \u001b[0;32mif\u001b[0m \u001b[0marrs\u001b[0m\u001b[0;34m[\u001b[0m\u001b[0;36m0\u001b[0m\u001b[0;34m]\u001b[0m\u001b[0;34m.\u001b[0m\u001b[0mndim\u001b[0m \u001b[0;34m==\u001b[0m \u001b[0;36m1\u001b[0m\u001b[0;34m:\u001b[0m\u001b[0;34m\u001b[0m\u001b[0m\n\u001b[0;32m--> 286\u001b[0;31m         \u001b[0;32mreturn\u001b[0m \u001b[0m_nx\u001b[0m\u001b[0;34m.\u001b[0m\u001b[0mconcatenate\u001b[0m\u001b[0;34m(\u001b[0m\u001b[0marrs\u001b[0m\u001b[0;34m,\u001b[0m \u001b[0;36m0\u001b[0m\u001b[0;34m)\u001b[0m\u001b[0;34m\u001b[0m\u001b[0m\n\u001b[0m\u001b[1;32m    287\u001b[0m     \u001b[0;32melse\u001b[0m\u001b[0;34m:\u001b[0m\u001b[0;34m\u001b[0m\u001b[0m\n\u001b[1;32m    288\u001b[0m         \u001b[0;32mreturn\u001b[0m \u001b[0m_nx\u001b[0m\u001b[0;34m.\u001b[0m\u001b[0mconcatenate\u001b[0m\u001b[0;34m(\u001b[0m\u001b[0marrs\u001b[0m\u001b[0;34m,\u001b[0m \u001b[0;36m1\u001b[0m\u001b[0;34m)\u001b[0m\u001b[0;34m\u001b[0m\u001b[0m\n",
      "\u001b[0;31mValueError\u001b[0m: all the input arrays must have same number of dimensions"
     ]
    }
   ],
   "source": [
    "d1 = pydtw.dtw(a,b,pydtw.Settings(step = 'p0sym',     #Sakoe-Chiba symmetric step with slope constraint p = 0\n",
    "                                window = 'palival', #type of the window\n",
    "                                param = 2.0,        #window parameter\n",
    "                                norm = False,       #normalization\n",
    "                                compute_path = True))"
   ]
  },
  {
   "cell_type": "code",
   "execution_count": 36,
   "metadata": {
    "collapsed": false
   },
   "outputs": [],
   "source": [
    "a = np.array([(6, -6, -5, -4, -8, -69, -41, 0), \n",
    "             (-4, 2, 1, -6, -9, 9, -10, -9), \n",
    "             (0, -2, 0, 8, 23, -3, -5, -3), \n",
    "             (-2, 0, -1, -3, -14, 5, -7, -2), \n",
    "             (-1, 1, -2, -6, -13, 6, 2, -3), \n",
    "             (11, -2, -1, -1, 2, -31, -30, -6), \n",
    "             (-21, -4, -6, -6, -4, -9, 57, 9), \n",
    "             (0, 4, 2, 3, 4, 9, -4, -11)])\n",
    "\n",
    "b = np.array([(25, -5, -4, 2, -7, 2, 10, -1), \n",
    "              (-2, 4, 1, 0, 7, 15, 6, -7), \n",
    "              (-1, 2, 0, 0, -14, -16, -8, 4), \n",
    "              (3, -1, -3, -2, -3, -9, -19, -7), \n",
    "              (0, 1, 5, 14, 7, 40, 7, 0), \n",
    "              (-8, -5, -6, 0, 8, 8, 10, 2), \n",
    "              (11, 1, 0, -5, -6, 8, 44, 2), \n",
    "              (-5, -1, -1, 0, 7, 3, 5, 0)])"
   ]
  },
  {
   "cell_type": "code",
   "execution_count": 50,
   "metadata": {
    "collapsed": false
   },
   "outputs": [],
   "source": [
    "a_row1 = (a[4,:])\n",
    "b_row1 = (b[4,:])\n",
    "a_b_drow1 = pydtw.dtw(a_row1,b_row1,pydtw.Settings(step = 'p0sym',     #Sakoe-Chiba symmetric step with slope constraint p = 0\n",
    "                                window = 'palival', #type of the window\n",
    "                                param = 2.0,        #window parameter\n",
    "                                norm = False,       #normalization\n",
    "                                compute_path = True))"
   ]
  },
  {
   "cell_type": "code",
   "execution_count": 51,
   "metadata": {
    "collapsed": false
   },
   "outputs": [
    {
     "data": {
      "text/plain": [
       "103.0"
      ]
     },
     "execution_count": 51,
     "metadata": {},
     "output_type": "execute_result"
    }
   ],
   "source": [
    "a_b_drow1.get_dist()"
   ]
  },
  {
   "cell_type": "code",
   "execution_count": 53,
   "metadata": {
    "collapsed": false
   },
   "outputs": [
    {
     "data": {
      "text/plain": [
       "array([[  6,  -6,  -5,  -4,  -8, -69, -41,   0],\n",
       "       [ -4,   2,   1,  -6,  -9,   9, -10,  -9],\n",
       "       [  0,  -2,   0,   8,  23,  -3,  -5,  -3],\n",
       "       [ -2,   0,  -1,  -3, -14,   5,  -7,  -2],\n",
       "       [ -1,   1,  -2,  -6, -13,   6,   2,  -3],\n",
       "       [ 11,  -2,  -1,  -1,   2, -31, -30,  -6],\n",
       "       [-21,  -4,  -6,  -6,  -4,  -9,  57,   9],\n",
       "       [  0,   4,   2,   3,   4,   9,  -4, -11],\n",
       "       [ 25,  -5,  -4,   2,  -7,   2,  10,  -1],\n",
       "       [ -2,   4,   1,   0,   7,  15,   6,  -7],\n",
       "       [ -1,   2,   0,   0, -14, -16,  -8,   4],\n",
       "       [  3,  -1,  -3,  -2,  -3,  -9, -19,  -7],\n",
       "       [  0,   1,   5,  14,   7,  40,   7,   0],\n",
       "       [ -8,  -5,  -6,   0,   8,   8,  10,   2],\n",
       "       [ 11,   1,   0,  -5,  -6,   8,  44,   2],\n",
       "       [ -5,  -1,  -1,   0,   7,   3,   5,   0]])"
      ]
     },
     "execution_count": 53,
     "metadata": {},
     "output_type": "execute_result"
    }
   ],
   "source": [
    "np.concatenate([a,b])"
   ]
  },
  {
   "cell_type": "code",
   "execution_count": null,
   "metadata": {
    "collapsed": true
   },
   "outputs": [],
   "source": []
  }
 ],
 "metadata": {
  "kernelspec": {
   "display_name": "Python 3",
   "language": "python",
   "name": "python3"
  },
  "language_info": {
   "codemirror_mode": {
    "name": "ipython",
    "version": 3
   },
   "file_extension": ".py",
   "mimetype": "text/x-python",
   "name": "python",
   "nbconvert_exporter": "python",
   "pygments_lexer": "ipython3",
   "version": "3.6.0"
  }
 },
 "nbformat": 4,
 "nbformat_minor": 2
}
